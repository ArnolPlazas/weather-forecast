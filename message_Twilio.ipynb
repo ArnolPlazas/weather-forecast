{
 "cells": [
  {
   "cell_type": "code",
   "execution_count": 1,
   "metadata": {},
   "outputs": [],
   "source": [
    "import os\n",
    "from twilio.rest import Client\n",
    "from twilio_config import *\n",
    "import time\n",
    "\n",
    "from requests import Request, Session\n",
    "from requests.exceptions import ConnectionError, Timeout, TooManyRedirects\n",
    "import json\n",
    "\n",
    "\n",
    "import pandas as pd\n",
    "import requests\n",
    "from bs4  import BeautifulSoup\n",
    "from tqdm import tqdm\n",
    "\n",
    "from datetime import datetime"
   ]
  },
  {
   "cell_type": "code",
   "execution_count": 2,
   "metadata": {},
   "outputs": [
    {
     "data": {
      "text/plain": [
       "'http://api.weatherapi.com/v1/forecast.json?key=295b01273899442c8dd23949232106&q=Bogotá&days=1&aqi=no&alerts=no'"
      ]
     },
     "execution_count": 2,
     "metadata": {},
     "output_type": "execute_result"
    }
   ],
   "source": [
    "query = 'Bogotá'\n",
    "api_key = API_KEY_WAPI\n",
    "\n",
    "url_clima = 'http://api.weatherapi.com/v1/forecast.json?key='+api_key+'&q='+query+'&days=1&aqi=no&alerts=no'\n",
    "url_clima"
   ]
  },
  {
   "cell_type": "code",
   "execution_count": 3,
   "metadata": {},
   "outputs": [
    {
     "name": "stdout",
     "output_type": "stream",
     "text": [
      "{'location': {'name': 'Bogotá', 'region': 'Cundinamarca', 'country': 'Kolumbien', 'lat': 4.6, 'lon': -74.08, 'tz_id': 'America/Bogota', 'localtime_epoch': 1687316462, 'localtime': '2023-06-20 22:01'}, 'current': {'last_updated_epoch': 1687316400, 'last_updated': '2023-06-20 22:00', 'temp_c': 15.0, 'temp_f': 59.0, 'is_day': 0, 'condition': {'text': 'Partly cloudy', 'icon': '//cdn.weatherapi.com/weather/64x64/night/116.png', 'code': 1003}, 'wind_mph': 6.9, 'wind_kph': 11.2, 'wind_degree': 140, 'wind_dir': 'SE', 'pressure_mb': 1028.0, 'pressure_in': 30.36, 'precip_mm': 0.0, 'precip_in': 0.0, 'humidity': 67, 'cloud': 75, 'feelslike_c': 15.1, 'feelslike_f': 59.2, 'vis_km': 10.0, 'vis_miles': 6.0, 'uv': 1.0, 'gust_mph': 7.8, 'gust_kph': 12.6}, 'forecast': {'forecastday': [{'date': '2023-06-20', 'date_epoch': 1687219200, 'day': {'maxtemp_c': 19.2, 'maxtemp_f': 66.6, 'mintemp_c': 7.2, 'mintemp_f': 45.0, 'avgtemp_c': 12.4, 'avgtemp_f': 54.4, 'maxwind_mph': 5.6, 'maxwind_kph': 9.0, 'totalprecip_mm': 1.2, 'totalprecip_in': 0.05, 'totalsnow_cm': 0.0, 'avgvis_km': 9.9, 'avgvis_miles': 6.0, 'avghumidity': 80.0, 'daily_will_it_rain': 1, 'daily_chance_of_rain': 83, 'daily_will_it_snow': 0, 'daily_chance_of_snow': 0, 'condition': {'text': 'Patchy rain possible', 'icon': '//cdn.weatherapi.com/weather/64x64/day/176.png', 'code': 1063}, 'uv': 3.0}, 'astro': {'sunrise': '05:46 AM', 'sunset': '06:09 PM', 'moonrise': '07:47 AM', 'moonset': '08:29 PM', 'moon_phase': 'Waxing Crescent', 'moon_illumination': '3', 'is_moon_up': 1, 'is_sun_up': 0}, 'hour': [{'time_epoch': 1687237200, 'time': '2023-06-20 00:00', 'temp_c': 8.2, 'temp_f': 46.8, 'is_day': 0, 'condition': {'text': 'Partly cloudy', 'icon': '//cdn.weatherapi.com/weather/64x64/night/116.png', 'code': 1003}, 'wind_mph': 4.3, 'wind_kph': 6.8, 'wind_degree': 115, 'wind_dir': 'ESE', 'pressure_mb': 1021.0, 'pressure_in': 30.15, 'precip_mm': 0.0, 'precip_in': 0.0, 'humidity': 90, 'cloud': 27, 'feelslike_c': 7.2, 'feelslike_f': 45.0, 'windchill_c': 7.2, 'windchill_f': 45.0, 'heatindex_c': 8.2, 'heatindex_f': 46.8, 'dewpoint_c': 6.7, 'dewpoint_f': 44.1, 'will_it_rain': 0, 'chance_of_rain': 0, 'will_it_snow': 0, 'chance_of_snow': 0, 'vis_km': 10.0, 'vis_miles': 6.0, 'gust_mph': 8.5, 'gust_kph': 13.7, 'uv': 1.0}, {'time_epoch': 1687240800, 'time': '2023-06-20 01:00', 'temp_c': 7.6, 'temp_f': 45.7, 'is_day': 0, 'condition': {'text': 'Partly cloudy', 'icon': '//cdn.weatherapi.com/weather/64x64/night/116.png', 'code': 1003}, 'wind_mph': 4.0, 'wind_kph': 6.5, 'wind_degree': 114, 'wind_dir': 'ESE', 'pressure_mb': 1020.0, 'pressure_in': 30.13, 'precip_mm': 0.0, 'precip_in': 0.0, 'humidity': 92, 'cloud': 34, 'feelslike_c': 6.6, 'feelslike_f': 43.9, 'windchill_c': 6.6, 'windchill_f': 43.9, 'heatindex_c': 7.6, 'heatindex_f': 45.7, 'dewpoint_c': 6.3, 'dewpoint_f': 43.3, 'will_it_rain': 0, 'chance_of_rain': 0, 'will_it_snow': 0, 'chance_of_snow': 0, 'vis_km': 10.0, 'vis_miles': 6.0, 'gust_mph': 8.3, 'gust_kph': 13.3, 'uv': 1.0}, {'time_epoch': 1687244400, 'time': '2023-06-20 02:00', 'temp_c': 7.4, 'temp_f': 45.3, 'is_day': 0, 'condition': {'text': 'Partly cloudy', 'icon': '//cdn.weatherapi.com/weather/64x64/night/116.png', 'code': 1003}, 'wind_mph': 3.8, 'wind_kph': 6.1, 'wind_degree': 115, 'wind_dir': 'ESE', 'pressure_mb': 1020.0, 'pressure_in': 30.11, 'precip_mm': 0.0, 'precip_in': 0.0, 'humidity': 92, 'cloud': 34, 'feelslike_c': 6.5, 'feelslike_f': 43.7, 'windchill_c': 6.5, 'windchill_f': 43.7, 'heatindex_c': 7.4, 'heatindex_f': 45.3, 'dewpoint_c': 6.2, 'dewpoint_f': 43.2, 'will_it_rain': 0, 'chance_of_rain': 0, 'will_it_snow': 0, 'chance_of_snow': 0, 'vis_km': 10.0, 'vis_miles': 6.0, 'gust_mph': 7.8, 'gust_kph': 12.6, 'uv': 1.0}, {'time_epoch': 1687248000, 'time': '2023-06-20 03:00', 'temp_c': 7.2, 'temp_f': 45.0, 'is_day': 0, 'condition': {'text': 'Partly cloudy', 'icon': '//cdn.weatherapi.com/weather/64x64/night/116.png', 'code': 1003}, 'wind_mph': 3.8, 'wind_kph': 6.1, 'wind_degree': 111, 'wind_dir': 'ESE', 'pressure_mb': 1020.0, 'pressure_in': 30.11, 'precip_mm': 0.0, 'precip_in': 0.0, 'humidity': 92, 'cloud': 36, 'feelslike_c': 6.2, 'feelslike_f': 43.2, 'windchill_c': 6.2, 'windchill_f': 43.2, 'heatindex_c': 7.2, 'heatindex_f': 45.0, 'dewpoint_c': 6.0, 'dewpoint_f': 42.8, 'will_it_rain': 0, 'chance_of_rain': 0, 'will_it_snow': 0, 'chance_of_snow': 0, 'vis_km': 10.0, 'vis_miles': 6.0, 'gust_mph': 8.1, 'gust_kph': 13.0, 'uv': 1.0}, {'time_epoch': 1687251600, 'time': '2023-06-20 04:00', 'temp_c': 7.2, 'temp_f': 45.0, 'is_day': 0, 'condition': {'text': 'Partly cloudy', 'icon': '//cdn.weatherapi.com/weather/64x64/night/116.png', 'code': 1003}, 'wind_mph': 3.8, 'wind_kph': 6.1, 'wind_degree': 117, 'wind_dir': 'ESE', 'pressure_mb': 1020.0, 'pressure_in': 30.11, 'precip_mm': 0.0, 'precip_in': 0.0, 'humidity': 92, 'cloud': 36, 'feelslike_c': 6.2, 'feelslike_f': 43.2, 'windchill_c': 6.2, 'windchill_f': 43.2, 'heatindex_c': 7.2, 'heatindex_f': 45.0, 'dewpoint_c': 6.0, 'dewpoint_f': 42.8, 'will_it_rain': 0, 'chance_of_rain': 0, 'will_it_snow': 0, 'chance_of_snow': 0, 'vis_km': 10.0, 'vis_miles': 6.0, 'gust_mph': 8.1, 'gust_kph': 13.0, 'uv': 1.0}, {'time_epoch': 1687255200, 'time': '2023-06-20 05:00', 'temp_c': 7.3, 'temp_f': 45.1, 'is_day': 0, 'condition': {'text': 'Partly cloudy', 'icon': '//cdn.weatherapi.com/weather/64x64/night/116.png', 'code': 1003}, 'wind_mph': 4.3, 'wind_kph': 6.8, 'wind_degree': 115, 'wind_dir': 'ESE', 'pressure_mb': 1020.0, 'pressure_in': 30.11, 'precip_mm': 0.0, 'precip_in': 0.0, 'humidity': 92, 'cloud': 38, 'feelslike_c': 6.1, 'feelslike_f': 43.0, 'windchill_c': 6.1, 'windchill_f': 43.0, 'heatindex_c': 7.3, 'heatindex_f': 45.1, 'dewpoint_c': 6.1, 'dewpoint_f': 43.0, 'will_it_rain': 0, 'chance_of_rain': 0, 'will_it_snow': 0, 'chance_of_snow': 0, 'vis_km': 10.0, 'vis_miles': 6.0, 'gust_mph': 8.7, 'gust_kph': 14.0, 'uv': 1.0}, {'time_epoch': 1687258800, 'time': '2023-06-20 06:00', 'temp_c': 7.4, 'temp_f': 45.3, 'is_day': 1, 'condition': {'text': 'Partly cloudy', 'icon': '//cdn.weatherapi.com/weather/64x64/day/116.png', 'code': 1003}, 'wind_mph': 4.5, 'wind_kph': 7.2, 'wind_degree': 117, 'wind_dir': 'ESE', 'pressure_mb': 1020.0, 'pressure_in': 30.13, 'precip_mm': 0.0, 'precip_in': 0.0, 'humidity': 93, 'cloud': 47, 'feelslike_c': 6.2, 'feelslike_f': 43.2, 'windchill_c': 6.2, 'windchill_f': 43.2, 'heatindex_c': 7.4, 'heatindex_f': 45.3, 'dewpoint_c': 6.3, 'dewpoint_f': 43.3, 'will_it_rain': 0, 'chance_of_rain': 0, 'will_it_snow': 0, 'chance_of_snow': 0, 'vis_km': 10.0, 'vis_miles': 6.0, 'gust_mph': 8.9, 'gust_kph': 14.4, 'uv': 3.0}, {'time_epoch': 1687262400, 'time': '2023-06-20 07:00', 'temp_c': 9.9, 'temp_f': 49.8, 'is_day': 1, 'condition': {'text': 'Partly cloudy', 'icon': '//cdn.weatherapi.com/weather/64x64/day/116.png', 'code': 1003}, 'wind_mph': 4.5, 'wind_kph': 7.2, 'wind_degree': 119, 'wind_dir': 'ESE', 'pressure_mb': 1020.0, 'pressure_in': 30.12, 'precip_mm': 0.0, 'precip_in': 0.0, 'humidity': 88, 'cloud': 27, 'feelslike_c': 9.1, 'feelslike_f': 48.4, 'windchill_c': 9.1, 'windchill_f': 48.4, 'heatindex_c': 9.9, 'heatindex_f': 49.8, 'dewpoint_c': 8.0, 'dewpoint_f': 46.4, 'will_it_rain': 0, 'chance_of_rain': 0, 'will_it_snow': 0, 'chance_of_snow': 0, 'vis_km': 10.0, 'vis_miles': 6.0, 'gust_mph': 6.3, 'gust_kph': 10.1, 'uv': 3.0}, {'time_epoch': 1687266000, 'time': '2023-06-20 08:00', 'temp_c': 12.7, 'temp_f': 54.9, 'is_day': 1, 'condition': {'text': 'Partly cloudy', 'icon': '//cdn.weatherapi.com/weather/64x64/day/116.png', 'code': 1003}, 'wind_mph': 4.5, 'wind_kph': 7.2, 'wind_degree': 122, 'wind_dir': 'ESE', 'pressure_mb': 1019.0, 'pressure_in': 30.09, 'precip_mm': 0.0, 'precip_in': 0.0, 'humidity': 77, 'cloud': 46, 'feelslike_c': 12.3, 'feelslike_f': 54.1, 'windchill_c': 12.3, 'windchill_f': 54.1, 'heatindex_c': 12.7, 'heatindex_f': 54.9, 'dewpoint_c': 8.8, 'dewpoint_f': 47.8, 'will_it_rain': 0, 'chance_of_rain': 0, 'will_it_snow': 0, 'chance_of_snow': 0, 'vis_km': 10.0, 'vis_miles': 6.0, 'gust_mph': 5.1, 'gust_kph': 8.3, 'uv': 4.0}, {'time_epoch': 1687269600, 'time': '2023-06-20 09:00', 'temp_c': 14.7, 'temp_f': 58.5, 'is_day': 1, 'condition': {'text': 'Partly cloudy', 'icon': '//cdn.weatherapi.com/weather/64x64/day/116.png', 'code': 1003}, 'wind_mph': 4.7, 'wind_kph': 7.6, 'wind_degree': 135, 'wind_dir': 'SE', 'pressure_mb': 1018.0, 'pressure_in': 30.07, 'precip_mm': 0.0, 'precip_in': 0.0, 'humidity': 68, 'cloud': 28, 'feelslike_c': 14.6, 'feelslike_f': 58.3, 'windchill_c': 14.6, 'windchill_f': 58.3, 'heatindex_c': 14.7, 'heatindex_f': 58.5, 'dewpoint_c': 8.9, 'dewpoint_f': 48.0, 'will_it_rain': 0, 'chance_of_rain': 0, 'will_it_snow': 0, 'chance_of_snow': 0, 'vis_km': 10.0, 'vis_miles': 6.0, 'gust_mph': 5.4, 'gust_kph': 8.6, 'uv': 4.0}, {'time_epoch': 1687273200, 'time': '2023-06-20 10:00', 'temp_c': 16.3, 'temp_f': 61.3, 'is_day': 1, 'condition': {'text': 'Sunny', 'icon': '//cdn.weatherapi.com/weather/64x64/day/113.png', 'code': 1000}, 'wind_mph': 5.6, 'wind_kph': 9.0, 'wind_degree': 150, 'wind_dir': 'SSE', 'pressure_mb': 1017.0, 'pressure_in': 30.04, 'precip_mm': 0.0, 'precip_in': 0.0, 'humidity': 63, 'cloud': 19, 'feelslike_c': 16.3, 'feelslike_f': 61.3, 'windchill_c': 16.3, 'windchill_f': 61.3, 'heatindex_c': 16.3, 'heatindex_f': 61.3, 'dewpoint_c': 9.2, 'dewpoint_f': 48.6, 'will_it_rain': 0, 'chance_of_rain': 0, 'will_it_snow': 0, 'chance_of_snow': 0, 'vis_km': 10.0, 'vis_miles': 6.0, 'gust_mph': 6.5, 'gust_kph': 10.4, 'uv': 5.0}, {'time_epoch': 1687276800, 'time': '2023-06-20 11:00', 'temp_c': 17.9, 'temp_f': 64.2, 'is_day': 1, 'condition': {'text': 'Sunny', 'icon': '//cdn.weatherapi.com/weather/64x64/day/113.png', 'code': 1000}, 'wind_mph': 4.9, 'wind_kph': 7.9, 'wind_degree': 155, 'wind_dir': 'SSE', 'pressure_mb': 1016.0, 'pressure_in': 30.01, 'precip_mm': 0.0, 'precip_in': 0.0, 'humidity': 62, 'cloud': 18, 'feelslike_c': 17.9, 'feelslike_f': 64.2, 'windchill_c': 17.9, 'windchill_f': 64.2, 'heatindex_c': 17.9, 'heatindex_f': 64.2, 'dewpoint_c': 10.4, 'dewpoint_f': 50.7, 'will_it_rain': 0, 'chance_of_rain': 0, 'will_it_snow': 0, 'chance_of_snow': 0, 'vis_km': 10.0, 'vis_miles': 6.0, 'gust_mph': 5.6, 'gust_kph': 9.0, 'uv': 5.0}, {'time_epoch': 1687280400, 'time': '2023-06-20 12:00', 'temp_c': 17.9, 'temp_f': 64.2, 'is_day': 1, 'condition': {'text': 'Sunny', 'icon': '//cdn.weatherapi.com/weather/64x64/day/113.png', 'code': 1000}, 'wind_mph': 4.9, 'wind_kph': 7.9, 'wind_degree': 156, 'wind_dir': 'SSE', 'pressure_mb': 1016.0, 'pressure_in': 29.99, 'precip_mm': 0.0, 'precip_in': 0.0, 'humidity': 64, 'cloud': 19, 'feelslike_c': 17.9, 'feelslike_f': 64.2, 'windchill_c': 17.9, 'windchill_f': 64.2, 'heatindex_c': 17.9, 'heatindex_f': 64.2, 'dewpoint_c': 10.9, 'dewpoint_f': 51.6, 'will_it_rain': 0, 'chance_of_rain': 0, 'will_it_snow': 0, 'chance_of_snow': 0, 'vis_km': 10.0, 'vis_miles': 6.0, 'gust_mph': 5.8, 'gust_kph': 9.4, 'uv': 5.0}, {'time_epoch': 1687284000, 'time': '2023-06-20 13:00', 'temp_c': 18.8, 'temp_f': 65.8, 'is_day': 1, 'condition': {'text': 'Patchy rain possible', 'icon': '//cdn.weatherapi.com/weather/64x64/day/176.png', 'code': 1063}, 'wind_mph': 4.7, 'wind_kph': 7.6, 'wind_degree': 157, 'wind_dir': 'SSE', 'pressure_mb': 1014.0, 'pressure_in': 29.96, 'precip_mm': 0.3, 'precip_in': 0.01, 'humidity': 61, 'cloud': 80, 'feelslike_c': 18.8, 'feelslike_f': 65.8, 'windchill_c': 18.8, 'windchill_f': 65.8, 'heatindex_c': 18.8, 'heatindex_f': 65.8, 'dewpoint_c': 11.2, 'dewpoint_f': 52.2, 'will_it_rain': 1, 'chance_of_rain': 83, 'will_it_snow': 0, 'chance_of_snow': 0, 'vis_km': 9.0, 'vis_miles': 5.0, 'gust_mph': 5.6, 'gust_kph': 9.0, 'uv': 4.0}, {'time_epoch': 1687287600, 'time': '2023-06-20 14:00', 'temp_c': 19.2, 'temp_f': 66.6, 'is_day': 1, 'condition': {'text': 'Patchy rain possible', 'icon': '//cdn.weatherapi.com/weather/64x64/day/176.png', 'code': 1063}, 'wind_mph': 4.7, 'wind_kph': 7.6, 'wind_degree': 153, 'wind_dir': 'SSE', 'pressure_mb': 1013.0, 'pressure_in': 29.93, 'precip_mm': 0.1, 'precip_in': 0.0, 'humidity': 60, 'cloud': 84, 'feelslike_c': 19.2, 'feelslike_f': 66.6, 'windchill_c': 19.2, 'windchill_f': 66.6, 'heatindex_c': 19.2, 'heatindex_f': 66.6, 'dewpoint_c': 11.3, 'dewpoint_f': 52.3, 'will_it_rain': 0, 'chance_of_rain': 62, 'will_it_snow': 0, 'chance_of_snow': 0, 'vis_km': 10.0, 'vis_miles': 6.0, 'gust_mph': 5.4, 'gust_kph': 8.6, 'uv': 4.0}, {'time_epoch': 1687291200, 'time': '2023-06-20 15:00', 'temp_c': 18.9, 'temp_f': 66.0, 'is_day': 1, 'condition': {'text': 'Patchy rain possible', 'icon': '//cdn.weatherapi.com/weather/64x64/day/176.png', 'code': 1063}, 'wind_mph': 4.5, 'wind_kph': 7.2, 'wind_degree': 150, 'wind_dir': 'SSE', 'pressure_mb': 1013.0, 'pressure_in': 29.91, 'precip_mm': 0.1, 'precip_in': 0.0, 'humidity': 62, 'cloud': 86, 'feelslike_c': 18.9, 'feelslike_f': 66.0, 'windchill_c': 18.9, 'windchill_f': 66.0, 'heatindex_c': 18.9, 'heatindex_f': 66.0, 'dewpoint_c': 11.4, 'dewpoint_f': 52.5, 'will_it_rain': 1, 'chance_of_rain': 76, 'will_it_snow': 0, 'chance_of_snow': 0, 'vis_km': 10.0, 'vis_miles': 6.0, 'gust_mph': 5.1, 'gust_kph': 8.3, 'uv': 4.0}, {'time_epoch': 1687294800, 'time': '2023-06-20 16:00', 'temp_c': 18.1, 'temp_f': 64.6, 'is_day': 1, 'condition': {'text': 'Patchy rain possible', 'icon': '//cdn.weatherapi.com/weather/64x64/day/176.png', 'code': 1063}, 'wind_mph': 4.7, 'wind_kph': 7.6, 'wind_degree': 145, 'wind_dir': 'SE', 'pressure_mb': 1013.0, 'pressure_in': 29.92, 'precip_mm': 0.2, 'precip_in': 0.01, 'humidity': 66, 'cloud': 76, 'feelslike_c': 18.1, 'feelslike_f': 64.6, 'windchill_c': 18.1, 'windchill_f': 64.6, 'heatindex_c': 18.1, 'heatindex_f': 64.6, 'dewpoint_c': 11.7, 'dewpoint_f': 53.1, 'will_it_rain': 1, 'chance_of_rain': 72, 'will_it_snow': 0, 'chance_of_snow': 0, 'vis_km': 9.0, 'vis_miles': 5.0, 'gust_mph': 5.4, 'gust_kph': 8.6, 'uv': 4.0}, {'time_epoch': 1687298400, 'time': '2023-06-20 17:00', 'temp_c': 16.9, 'temp_f': 62.4, 'is_day': 1, 'condition': {'text': 'Patchy rain possible', 'icon': '//cdn.weatherapi.com/weather/64x64/day/176.png', 'code': 1063}, 'wind_mph': 4.5, 'wind_kph': 7.2, 'wind_degree': 146, 'wind_dir': 'SSE', 'pressure_mb': 1014.0, 'pressure_in': 29.94, 'precip_mm': 0.1, 'precip_in': 0.0, 'humidity': 73, 'cloud': 89, 'feelslike_c': 16.9, 'feelslike_f': 62.4, 'windchill_c': 16.9, 'windchill_f': 62.4, 'heatindex_c': 16.9, 'heatindex_f': 62.4, 'dewpoint_c': 12.0, 'dewpoint_f': 53.6, 'will_it_rain': 0, 'chance_of_rain': 68, 'will_it_snow': 0, 'chance_of_snow': 0, 'vis_km': 10.0, 'vis_miles': 6.0, 'gust_mph': 5.4, 'gust_kph': 8.6, 'uv': 4.0}, {'time_epoch': 1687302000, 'time': '2023-06-20 18:00', 'temp_c': 13.3, 'temp_f': 55.9, 'is_day': 1, 'condition': {'text': 'Patchy rain possible', 'icon': '//cdn.weatherapi.com/weather/64x64/day/176.png', 'code': 1063}, 'wind_mph': 4.0, 'wind_kph': 6.5, 'wind_degree': 144, 'wind_dir': 'SE', 'pressure_mb': 1016.0, 'pressure_in': 30.0, 'precip_mm': 0.1, 'precip_in': 0.0, 'humidity': 87, 'cloud': 85, 'feelslike_c': 13.2, 'feelslike_f': 55.8, 'windchill_c': 13.2, 'windchill_f': 55.8, 'heatindex_c': 13.3, 'heatindex_f': 55.9, 'dewpoint_c': 11.2, 'dewpoint_f': 52.2, 'will_it_rain': 1, 'chance_of_rain': 73, 'will_it_snow': 0, 'chance_of_snow': 0, 'vis_km': 10.0, 'vis_miles': 6.0, 'gust_mph': 5.8, 'gust_kph': 9.4, 'uv': 3.0}, {'time_epoch': 1687305600, 'time': '2023-06-20 19:00', 'temp_c': 12.1, 'temp_f': 53.8, 'is_day': 0, 'condition': {'text': 'Patchy rain possible', 'icon': '//cdn.weatherapi.com/weather/64x64/night/176.png', 'code': 1063}, 'wind_mph': 4.0, 'wind_kph': 6.5, 'wind_degree': 133, 'wind_dir': 'SE', 'pressure_mb': 1018.0, 'pressure_in': 30.05, 'precip_mm': 0.3, 'precip_in': 0.01, 'humidity': 91, 'cloud': 85, 'feelslike_c': 11.8, 'feelslike_f': 53.2, 'windchill_c': 11.8, 'windchill_f': 53.2, 'heatindex_c': 12.1, 'heatindex_f': 53.8, 'dewpoint_c': 10.7, 'dewpoint_f': 51.3, 'will_it_rain': 1, 'chance_of_rain': 72, 'will_it_snow': 0, 'chance_of_snow': 0, 'vis_km': 9.0, 'vis_miles': 5.0, 'gust_mph': 6.3, 'gust_kph': 10.1, 'uv': 1.0}, {'time_epoch': 1687309200, 'time': '2023-06-20 20:00', 'temp_c': 10.2, 'temp_f': 50.4, 'is_day': 0, 'condition': {'text': 'Partly cloudy', 'icon': '//cdn.weatherapi.com/weather/64x64/night/116.png', 'code': 1003}, 'wind_mph': 4.0, 'wind_kph': 6.5, 'wind_degree': 124, 'wind_dir': 'SE', 'pressure_mb': 1019.0, 'pressure_in': 30.09, 'precip_mm': 0.0, 'precip_in': 0.0, 'humidity': 91, 'cloud': 31, 'feelslike_c': 9.6, 'feelslike_f': 49.3, 'windchill_c': 9.6, 'windchill_f': 49.3, 'heatindex_c': 10.2, 'heatindex_f': 50.4, 'dewpoint_c': 8.8, 'dewpoint_f': 47.8, 'will_it_rain': 0, 'chance_of_rain': 0, 'will_it_snow': 0, 'chance_of_snow': 0, 'vis_km': 10.0, 'vis_miles': 6.0, 'gust_mph': 8.1, 'gust_kph': 13.0, 'uv': 1.0}, {'time_epoch': 1687312800, 'time': '2023-06-20 21:00', 'temp_c': 9.7, 'temp_f': 49.5, 'is_day': 0, 'condition': {'text': 'Partly cloudy', 'icon': '//cdn.weatherapi.com/weather/64x64/night/116.png', 'code': 1003}, 'wind_mph': 4.3, 'wind_kph': 6.8, 'wind_degree': 120, 'wind_dir': 'ESE', 'pressure_mb': 1020.0, 'pressure_in': 30.12, 'precip_mm': 0.0, 'precip_in': 0.0, 'humidity': 92, 'cloud': 32, 'feelslike_c': 8.9, 'feelslike_f': 48.0, 'windchill_c': 8.9, 'windchill_f': 48.0, 'heatindex_c': 9.7, 'heatindex_f': 49.5, 'dewpoint_c': 8.4, 'dewpoint_f': 47.1, 'will_it_rain': 0, 'chance_of_rain': 0, 'will_it_snow': 0, 'chance_of_snow': 0, 'vis_km': 10.0, 'vis_miles': 6.0, 'gust_mph': 8.5, 'gust_kph': 13.7, 'uv': 1.0}, {'time_epoch': 1687316400, 'time': '2023-06-20 22:00', 'temp_c': 9.8, 'temp_f': 49.6, 'is_day': 0, 'condition': {'text': 'Partly cloudy', 'icon': '//cdn.weatherapi.com/weather/64x64/night/116.png', 'code': 1003}, 'wind_mph': 4.0, 'wind_kph': 6.5, 'wind_degree': 122, 'wind_dir': 'ESE', 'pressure_mb': 1020.0, 'pressure_in': 30.13, 'precip_mm': 0.0, 'precip_in': 0.0, 'humidity': 92, 'cloud': 34, 'feelslike_c': 9.1, 'feelslike_f': 48.4, 'windchill_c': 9.1, 'windchill_f': 48.4, 'heatindex_c': 9.8, 'heatindex_f': 49.6, 'dewpoint_c': 8.6, 'dewpoint_f': 47.5, 'will_it_rain': 0, 'chance_of_rain': 0, 'will_it_snow': 0, 'chance_of_snow': 0, 'vis_km': 10.0, 'vis_miles': 6.0, 'gust_mph': 7.8, 'gust_kph': 12.6, 'uv': 1.0}, {'time_epoch': 1687320000, 'time': '2023-06-20 23:00', 'temp_c': 9.6, 'temp_f': 49.3, 'is_day': 0, 'condition': {'text': 'Partly cloudy', 'icon': '//cdn.weatherapi.com/weather/64x64/night/116.png', 'code': 1003}, 'wind_mph': 3.8, 'wind_kph': 6.1, 'wind_degree': 117, 'wind_dir': 'ESE', 'pressure_mb': 1020.0, 'pressure_in': 30.13, 'precip_mm': 0.0, 'precip_in': 0.0, 'humidity': 93, 'cloud': 38, 'feelslike_c': 9.0, 'feelslike_f': 48.2, 'windchill_c': 9.0, 'windchill_f': 48.2, 'heatindex_c': 9.6, 'heatindex_f': 49.3, 'dewpoint_c': 8.4, 'dewpoint_f': 47.1, 'will_it_rain': 0, 'chance_of_rain': 0, 'will_it_snow': 0, 'chance_of_snow': 0, 'vis_km': 10.0, 'vis_miles': 6.0, 'gust_mph': 7.2, 'gust_kph': 11.5, 'uv': 1.0}]}]}}\n"
     ]
    }
   ],
   "source": [
    "response = requests.get(url_clima).json()\n",
    "print(response)"
   ]
  },
  {
   "cell_type": "code",
   "execution_count": 4,
   "metadata": {},
   "outputs": [
    {
     "data": {
      "text/plain": [
       "dict_keys(['location', 'current', 'forecast'])"
      ]
     },
     "execution_count": 4,
     "metadata": {},
     "output_type": "execute_result"
    }
   ],
   "source": [
    "response.keys()"
   ]
  },
  {
   "cell_type": "code",
   "execution_count": 5,
   "metadata": {},
   "outputs": [
    {
     "data": {
      "text/plain": [
       "dict_keys(['date', 'date_epoch', 'day', 'astro', 'hour'])"
      ]
     },
     "execution_count": 5,
     "metadata": {},
     "output_type": "execute_result"
    }
   ],
   "source": [
    "# información que se tiene de forcastday\n",
    "response['forecast']['forecastday'][0].keys()"
   ]
  },
  {
   "cell_type": "code",
   "execution_count": 6,
   "metadata": {},
   "outputs": [
    {
     "data": {
      "text/plain": [
       "24"
      ]
     },
     "execution_count": 6,
     "metadata": {},
     "output_type": "execute_result"
    }
   ],
   "source": [
    "\n",
    "len(response['forecast']['forecastday'][0]['hour'])"
   ]
  },
  {
   "cell_type": "code",
   "execution_count": 8,
   "metadata": {},
   "outputs": [
    {
     "data": {
      "text/plain": [
       "{'time_epoch': 1687240800,\n",
       " 'time': '2023-06-20 01:00',\n",
       " 'temp_c': 7.6,\n",
       " 'temp_f': 45.7,\n",
       " 'is_day': 0,\n",
       " 'condition': {'text': 'Partly cloudy',\n",
       "  'icon': '//cdn.weatherapi.com/weather/64x64/night/116.png',\n",
       "  'code': 1003},\n",
       " 'wind_mph': 4.0,\n",
       " 'wind_kph': 6.5,\n",
       " 'wind_degree': 114,\n",
       " 'wind_dir': 'ESE',\n",
       " 'pressure_mb': 1020.0,\n",
       " 'pressure_in': 30.13,\n",
       " 'precip_mm': 0.0,\n",
       " 'precip_in': 0.0,\n",
       " 'humidity': 92,\n",
       " 'cloud': 34,\n",
       " 'feelslike_c': 6.6,\n",
       " 'feelslike_f': 43.9,\n",
       " 'windchill_c': 6.6,\n",
       " 'windchill_f': 43.9,\n",
       " 'heatindex_c': 7.6,\n",
       " 'heatindex_f': 45.7,\n",
       " 'dewpoint_c': 6.3,\n",
       " 'dewpoint_f': 43.3,\n",
       " 'will_it_rain': 0,\n",
       " 'chance_of_rain': 0,\n",
       " 'will_it_snow': 0,\n",
       " 'chance_of_snow': 0,\n",
       " 'vis_km': 10.0,\n",
       " 'vis_miles': 6.0,\n",
       " 'gust_mph': 8.3,\n",
       " 'gust_kph': 13.3,\n",
       " 'uv': 1.0}"
      ]
     },
     "execution_count": 8,
     "metadata": {},
     "output_type": "execute_result"
    }
   ],
   "source": [
    "# pronostico de la 1:00 AM\n",
    "response['forecast']['forecastday'][0]['hour'][1]"
   ]
  },
  {
   "cell_type": "code",
   "execution_count": 9,
   "metadata": {},
   "outputs": [
    {
     "data": {
      "text/plain": [
       "'2023-06-20'"
      ]
     },
     "execution_count": 9,
     "metadata": {},
     "output_type": "execute_result"
    }
   ],
   "source": [
    "# Obtener unicamente la fecha del dato anterior\n",
    "response['forecast']['forecastday'][0]['hour'][1]['time'].split()[0]"
   ]
  },
  {
   "cell_type": "code",
   "execution_count": 13,
   "metadata": {},
   "outputs": [
    {
     "data": {
      "text/plain": [
       "1"
      ]
     },
     "execution_count": 13,
     "metadata": {},
     "output_type": "execute_result"
    }
   ],
   "source": [
    "# Obtener unicamente la hora del dato anterior\n",
    "int(response['forecast']['forecastday'][0]['hour'][1]['time'].split()[1].split(':')[0])"
   ]
  },
  {
   "cell_type": "code",
   "execution_count": 14,
   "metadata": {},
   "outputs": [
    {
     "data": {
      "text/plain": [
       "'Partly cloudy'"
      ]
     },
     "execution_count": 14,
     "metadata": {},
     "output_type": "execute_result"
    }
   ],
   "source": [
    "# Obtener la condición del dato anterior\n",
    "response['forecast']['forecastday'][0]['hour'][1]['condition']['text']"
   ]
  },
  {
   "cell_type": "code",
   "execution_count": 15,
   "metadata": {},
   "outputs": [
    {
     "data": {
      "text/plain": [
       "7.6"
      ]
     },
     "execution_count": 15,
     "metadata": {},
     "output_type": "execute_result"
    }
   ],
   "source": [
    "# Obtener la temperatura del dato anterior\n",
    "response['forecast']['forecastday'][0]['hour'][1]['temp_c']"
   ]
  },
  {
   "cell_type": "code",
   "execution_count": 17,
   "metadata": {},
   "outputs": [
    {
     "data": {
      "text/plain": [
       "0"
      ]
     },
     "execution_count": 17,
     "metadata": {},
     "output_type": "execute_result"
    }
   ],
   "source": [
    "# Obtener si va llover o no (0 o 1) del dato anterior\n",
    "response['forecast']['forecastday'][0]['hour'][1]['will_it_rain']"
   ]
  },
  {
   "cell_type": "code",
   "execution_count": 18,
   "metadata": {},
   "outputs": [
    {
     "data": {
      "text/plain": [
       "0"
      ]
     },
     "execution_count": 18,
     "metadata": {},
     "output_type": "execute_result"
    }
   ],
   "source": [
    "# Obtener probabilidad de lluvia del dato anterior\n",
    "response['forecast']['forecastday'][0]['hour'][1]['chance_of_rain']"
   ]
  }
 ],
 "metadata": {
  "kernelspec": {
   "display_name": ".venv",
   "language": "python",
   "name": "python3"
  },
  "language_info": {
   "codemirror_mode": {
    "name": "ipython",
    "version": 3
   },
   "file_extension": ".py",
   "mimetype": "text/x-python",
   "name": "python",
   "nbconvert_exporter": "python",
   "pygments_lexer": "ipython3",
   "version": "3.10.6"
  },
  "orig_nbformat": 4
 },
 "nbformat": 4,
 "nbformat_minor": 2
}
