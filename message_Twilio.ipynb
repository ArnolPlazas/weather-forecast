{
 "cells": [
  {
   "cell_type": "code",
   "execution_count": 22,
   "metadata": {},
   "outputs": [],
   "source": [
    "import os\n",
    "from twilio.rest import Client\n",
    "from twilio_config import *\n",
    "import time\n",
    "\n",
    "import pandas as pd\n",
    "import requests\n",
    "\n",
    "from tqdm import tqdm\n"
   ]
  },
  {
   "cell_type": "code",
   "execution_count": 23,
   "metadata": {},
   "outputs": [
    {
     "data": {
      "text/plain": [
       "'http://api.weatherapi.com/v1/forecast.json?key=295b01273899442c8dd23949232106&q=Bogotá&days=1&aqi=no&alerts=no'"
      ]
     },
     "execution_count": 23,
     "metadata": {},
     "output_type": "execute_result"
    }
   ],
   "source": [
    "query = 'Bogotá'\n",
    "api_key = API_KEY_WAPI\n",
    "\n",
    "url_clima = 'http://api.weatherapi.com/v1/forecast.json?key='+api_key+'&q='+query+'&days=1&aqi=no&alerts=no'\n",
    "url_clima"
   ]
  },
  {
   "cell_type": "code",
   "execution_count": 24,
   "metadata": {},
   "outputs": [
    {
     "name": "stdout",
     "output_type": "stream",
     "text": [
      "{'location': {'name': 'Bogotá', 'region': 'Cundinamarca', 'country': 'Kolumbien', 'lat': 4.6, 'lon': -74.08, 'tz_id': 'America/Bogota', 'localtime_epoch': 1687381980, 'localtime': '2023-06-21 16:13'}, 'current': {'last_updated_epoch': 1687381200, 'last_updated': '2023-06-21 16:00', 'temp_c': 20.0, 'temp_f': 68.0, 'is_day': 1, 'condition': {'text': 'Partly cloudy', 'icon': '//cdn.weatherapi.com/weather/64x64/day/116.png', 'code': 1003}, 'wind_mph': 11.9, 'wind_kph': 19.1, 'wind_degree': 150, 'wind_dir': 'SSE', 'pressure_mb': 1025.0, 'pressure_in': 30.27, 'precip_mm': 0.5, 'precip_in': 0.02, 'humidity': 49, 'cloud': 50, 'feelslike_c': 20.0, 'feelslike_f': 68.0, 'vis_km': 10.0, 'vis_miles': 6.0, 'uv': 4.0, 'gust_mph': 3.6, 'gust_kph': 5.8}, 'forecast': {'forecastday': [{'date': '2023-06-21', 'date_epoch': 1687305600, 'day': {'maxtemp_c': 17.2, 'maxtemp_f': 63.0, 'mintemp_c': 8.7, 'mintemp_f': 47.7, 'avgtemp_c': 11.5, 'avgtemp_f': 52.7, 'maxwind_mph': 4.3, 'maxwind_kph': 6.8, 'totalprecip_mm': 3.4, 'totalprecip_in': 0.13, 'totalsnow_cm': 0.0, 'avgvis_km': 9.3, 'avgvis_miles': 5.0, 'avghumidity': 89.0, 'daily_will_it_rain': 1, 'daily_chance_of_rain': 84, 'daily_will_it_snow': 0, 'daily_chance_of_snow': 0, 'condition': {'text': 'Patchy rain possible', 'icon': '//cdn.weatherapi.com/weather/64x64/day/176.png', 'code': 1063}, 'uv': 3.0}, 'astro': {'sunrise': '05:47 AM', 'sunset': '06:10 PM', 'moonrise': '08:37 AM', 'moonset': '09:15 PM', 'moon_phase': 'Waxing Crescent', 'moon_illumination': '8', 'is_moon_up': 1, 'is_sun_up': 0}, 'hour': [{'time_epoch': 1687323600, 'time': '2023-06-21 00:00', 'temp_c': 8.9, 'temp_f': 48.0, 'is_day': 0, 'condition': {'text': 'Partly cloudy', 'icon': '//cdn.weatherapi.com/weather/64x64/night/116.png', 'code': 1003}, 'wind_mph': 3.8, 'wind_kph': 6.1, 'wind_degree': 116, 'wind_dir': 'ESE', 'pressure_mb': 1020.0, 'pressure_in': 30.13, 'precip_mm': 0.0, 'precip_in': 0.0, 'humidity': 93, 'cloud': 42, 'feelslike_c': 8.2, 'feelslike_f': 46.8, 'windchill_c': 8.2, 'windchill_f': 46.8, 'heatindex_c': 8.9, 'heatindex_f': 48.0, 'dewpoint_c': 7.8, 'dewpoint_f': 46.0, 'will_it_rain': 0, 'chance_of_rain': 0, 'will_it_snow': 0, 'chance_of_snow': 0, 'vis_km': 10.0, 'vis_miles': 6.0, 'gust_mph': 7.2, 'gust_kph': 11.5, 'uv': 1.0}, {'time_epoch': 1687327200, 'time': '2023-06-21 01:00', 'temp_c': 8.8, 'temp_f': 47.8, 'is_day': 0, 'condition': {'text': 'Partly cloudy', 'icon': '//cdn.weatherapi.com/weather/64x64/night/116.png', 'code': 1003}, 'wind_mph': 3.8, 'wind_kph': 6.1, 'wind_degree': 112, 'wind_dir': 'ESE', 'pressure_mb': 1020.0, 'pressure_in': 30.11, 'precip_mm': 0.0, 'precip_in': 0.0, 'humidity': 92, 'cloud': 36, 'feelslike_c': 8.1, 'feelslike_f': 46.6, 'windchill_c': 8.1, 'windchill_f': 46.6, 'heatindex_c': 8.8, 'heatindex_f': 47.8, 'dewpoint_c': 7.6, 'dewpoint_f': 45.7, 'will_it_rain': 0, 'chance_of_rain': 0, 'will_it_snow': 0, 'chance_of_snow': 0, 'vis_km': 10.0, 'vis_miles': 6.0, 'gust_mph': 7.2, 'gust_kph': 11.5, 'uv': 1.0}, {'time_epoch': 1687330800, 'time': '2023-06-21 02:00', 'temp_c': 8.7, 'temp_f': 47.7, 'is_day': 0, 'condition': {'text': 'Partly cloudy', 'icon': '//cdn.weatherapi.com/weather/64x64/night/116.png', 'code': 1003}, 'wind_mph': 3.8, 'wind_kph': 6.1, 'wind_degree': 108, 'wind_dir': 'ESE', 'pressure_mb': 1019.0, 'pressure_in': 30.08, 'precip_mm': 0.0, 'precip_in': 0.0, 'humidity': 92, 'cloud': 38, 'feelslike_c': 7.9, 'feelslike_f': 46.2, 'windchill_c': 7.9, 'windchill_f': 46.2, 'heatindex_c': 8.7, 'heatindex_f': 47.7, 'dewpoint_c': 7.5, 'dewpoint_f': 45.5, 'will_it_rain': 0, 'chance_of_rain': 0, 'will_it_snow': 0, 'chance_of_snow': 0, 'vis_km': 10.0, 'vis_miles': 6.0, 'gust_mph': 7.2, 'gust_kph': 11.5, 'uv': 1.0}, {'time_epoch': 1687334400, 'time': '2023-06-21 03:00', 'temp_c': 8.7, 'temp_f': 47.7, 'is_day': 0, 'condition': {'text': 'Partly cloudy', 'icon': '//cdn.weatherapi.com/weather/64x64/night/116.png', 'code': 1003}, 'wind_mph': 3.8, 'wind_kph': 6.1, 'wind_degree': 106, 'wind_dir': 'ESE', 'pressure_mb': 1018.0, 'pressure_in': 30.07, 'precip_mm': 0.0, 'precip_in': 0.0, 'humidity': 93, 'cloud': 43, 'feelslike_c': 7.9, 'feelslike_f': 46.2, 'windchill_c': 7.9, 'windchill_f': 46.2, 'heatindex_c': 8.7, 'heatindex_f': 47.7, 'dewpoint_c': 7.6, 'dewpoint_f': 45.7, 'will_it_rain': 0, 'chance_of_rain': 0, 'will_it_snow': 0, 'chance_of_snow': 0, 'vis_km': 10.0, 'vis_miles': 6.0, 'gust_mph': 7.2, 'gust_kph': 11.5, 'uv': 1.0}, {'time_epoch': 1687338000, 'time': '2023-06-21 04:00', 'temp_c': 8.7, 'temp_f': 47.7, 'is_day': 0, 'condition': {'text': 'Partly cloudy', 'icon': '//cdn.weatherapi.com/weather/64x64/night/116.png', 'code': 1003}, 'wind_mph': 4.0, 'wind_kph': 6.5, 'wind_degree': 115, 'wind_dir': 'ESE', 'pressure_mb': 1018.0, 'pressure_in': 30.06, 'precip_mm': 0.0, 'precip_in': 0.0, 'humidity': 94, 'cloud': 55, 'feelslike_c': 7.8, 'feelslike_f': 46.0, 'windchill_c': 7.8, 'windchill_f': 46.0, 'heatindex_c': 8.7, 'heatindex_f': 47.7, 'dewpoint_c': 7.8, 'dewpoint_f': 46.0, 'will_it_rain': 0, 'chance_of_rain': 0, 'will_it_snow': 0, 'chance_of_snow': 0, 'vis_km': 10.0, 'vis_miles': 6.0, 'gust_mph': 7.4, 'gust_kph': 11.9, 'uv': 1.0}, {'time_epoch': 1687341600, 'time': '2023-06-21 05:00', 'temp_c': 9.0, 'temp_f': 48.2, 'is_day': 0, 'condition': {'text': 'Partly cloudy', 'icon': '//cdn.weatherapi.com/weather/64x64/night/116.png', 'code': 1003}, 'wind_mph': 4.3, 'wind_kph': 6.8, 'wind_degree': 117, 'wind_dir': 'ESE', 'pressure_mb': 1018.0, 'pressure_in': 30.06, 'precip_mm': 0.0, 'precip_in': 0.0, 'humidity': 93, 'cloud': 51, 'feelslike_c': 8.1, 'feelslike_f': 46.6, 'windchill_c': 8.1, 'windchill_f': 46.6, 'heatindex_c': 9.0, 'heatindex_f': 48.2, 'dewpoint_c': 7.9, 'dewpoint_f': 46.2, 'will_it_rain': 0, 'chance_of_rain': 0, 'will_it_snow': 0, 'chance_of_snow': 0, 'vis_km': 10.0, 'vis_miles': 6.0, 'gust_mph': 7.6, 'gust_kph': 12.2, 'uv': 1.0}, {'time_epoch': 1687345200, 'time': '2023-06-21 06:00', 'temp_c': 8.9, 'temp_f': 48.0, 'is_day': 1, 'condition': {'text': 'Mist', 'icon': '//cdn.weatherapi.com/weather/64x64/day/143.png', 'code': 1030}, 'wind_mph': 4.3, 'wind_kph': 6.8, 'wind_degree': 123, 'wind_dir': 'ESE', 'pressure_mb': 1018.0, 'pressure_in': 30.07, 'precip_mm': 0.0, 'precip_in': 0.0, 'humidity': 94, 'cloud': 59, 'feelslike_c': 8.0, 'feelslike_f': 46.4, 'windchill_c': 8.0, 'windchill_f': 46.4, 'heatindex_c': 8.9, 'heatindex_f': 48.0, 'dewpoint_c': 8.0, 'dewpoint_f': 46.4, 'will_it_rain': 0, 'chance_of_rain': 0, 'will_it_snow': 0, 'chance_of_snow': 0, 'vis_km': 2.0, 'vis_miles': 1.0, 'gust_mph': 7.6, 'gust_kph': 12.2, 'uv': 2.0}, {'time_epoch': 1687348800, 'time': '2023-06-21 07:00', 'temp_c': 10.5, 'temp_f': 50.9, 'is_day': 1, 'condition': {'text': 'Partly cloudy', 'icon': '//cdn.weatherapi.com/weather/64x64/day/116.png', 'code': 1003}, 'wind_mph': 4.0, 'wind_kph': 6.5, 'wind_degree': 121, 'wind_dir': 'ESE', 'pressure_mb': 1018.0, 'pressure_in': 30.07, 'precip_mm': 0.0, 'precip_in': 0.0, 'humidity': 90, 'cloud': 47, 'feelslike_c': 9.9, 'feelslike_f': 49.8, 'windchill_c': 9.9, 'windchill_f': 49.8, 'heatindex_c': 10.5, 'heatindex_f': 50.9, 'dewpoint_c': 9.0, 'dewpoint_f': 48.2, 'will_it_rain': 0, 'chance_of_rain': 0, 'will_it_snow': 0, 'chance_of_snow': 0, 'vis_km': 10.0, 'vis_miles': 6.0, 'gust_mph': 5.6, 'gust_kph': 9.0, 'uv': 4.0}, {'time_epoch': 1687352400, 'time': '2023-06-21 08:00', 'temp_c': 11.5, 'temp_f': 52.7, 'is_day': 1, 'condition': {'text': 'Partly cloudy', 'icon': '//cdn.weatherapi.com/weather/64x64/day/116.png', 'code': 1003}, 'wind_mph': 3.4, 'wind_kph': 5.4, 'wind_degree': 138, 'wind_dir': 'SE', 'pressure_mb': 1019.0, 'pressure_in': 30.08, 'precip_mm': 0.0, 'precip_in': 0.0, 'humidity': 88, 'cloud': 49, 'feelslike_c': 11.3, 'feelslike_f': 52.3, 'windchill_c': 11.3, 'windchill_f': 52.3, 'heatindex_c': 11.5, 'heatindex_f': 52.7, 'dewpoint_c': 9.5, 'dewpoint_f': 49.1, 'will_it_rain': 0, 'chance_of_rain': 0, 'will_it_snow': 0, 'chance_of_snow': 0, 'vis_km': 10.0, 'vis_miles': 6.0, 'gust_mph': 4.0, 'gust_kph': 6.5, 'uv': 4.0}, {'time_epoch': 1687356000, 'time': '2023-06-21 09:00', 'temp_c': 11.9, 'temp_f': 53.4, 'is_day': 1, 'condition': {'text': 'Patchy rain possible', 'icon': '//cdn.weatherapi.com/weather/64x64/day/176.png', 'code': 1063}, 'wind_mph': 3.1, 'wind_kph': 5.0, 'wind_degree': 139, 'wind_dir': 'SE', 'pressure_mb': 1019.0, 'pressure_in': 30.09, 'precip_mm': 0.1, 'precip_in': 0.0, 'humidity': 87, 'cloud': 88, 'feelslike_c': 11.9, 'feelslike_f': 53.4, 'windchill_c': 11.9, 'windchill_f': 53.4, 'heatindex_c': 11.9, 'heatindex_f': 53.4, 'dewpoint_c': 9.8, 'dewpoint_f': 49.6, 'will_it_rain': 0, 'chance_of_rain': 60, 'will_it_snow': 0, 'chance_of_snow': 0, 'vis_km': 10.0, 'vis_miles': 6.0, 'gust_mph': 3.6, 'gust_kph': 5.8, 'uv': 3.0}, {'time_epoch': 1687359600, 'time': '2023-06-21 10:00', 'temp_c': 11.9, 'temp_f': 53.4, 'is_day': 1, 'condition': {'text': 'Patchy light drizzle', 'icon': '//cdn.weatherapi.com/weather/64x64/day/263.png', 'code': 1150}, 'wind_mph': 2.7, 'wind_kph': 4.3, 'wind_degree': 137, 'wind_dir': 'SE', 'pressure_mb': 1019.0, 'pressure_in': 30.09, 'precip_mm': 0.4, 'precip_in': 0.02, 'humidity': 89, 'cloud': 54, 'feelslike_c': 12.1, 'feelslike_f': 53.8, 'windchill_c': 12.1, 'windchill_f': 53.8, 'heatindex_c': 11.9, 'heatindex_f': 53.4, 'dewpoint_c': 10.2, 'dewpoint_f': 50.4, 'will_it_rain': 1, 'chance_of_rain': 78, 'will_it_snow': 0, 'chance_of_snow': 0, 'vis_km': 5.0, 'vis_miles': 3.0, 'gust_mph': 3.1, 'gust_kph': 5.0, 'uv': 3.0}, {'time_epoch': 1687363200, 'time': '2023-06-21 11:00', 'temp_c': 12.4, 'temp_f': 54.3, 'is_day': 1, 'condition': {'text': 'Light rain shower', 'icon': '//cdn.weatherapi.com/weather/64x64/day/353.png', 'code': 1240}, 'wind_mph': 3.1, 'wind_kph': 5.0, 'wind_degree': 143, 'wind_dir': 'SE', 'pressure_mb': 1019.0, 'pressure_in': 30.08, 'precip_mm': 0.2, 'precip_in': 0.01, 'humidity': 90, 'cloud': 53, 'feelslike_c': 12.5, 'feelslike_f': 54.5, 'windchill_c': 12.5, 'windchill_f': 54.5, 'heatindex_c': 12.4, 'heatindex_f': 54.3, 'dewpoint_c': 10.9, 'dewpoint_f': 51.6, 'will_it_rain': 0, 'chance_of_rain': 64, 'will_it_snow': 0, 'chance_of_snow': 0, 'vis_km': 10.0, 'vis_miles': 6.0, 'gust_mph': 3.6, 'gust_kph': 5.8, 'uv': 3.0}, {'time_epoch': 1687366800, 'time': '2023-06-21 12:00', 'temp_c': 12.7, 'temp_f': 54.9, 'is_day': 1, 'condition': {'text': 'Patchy rain possible', 'icon': '//cdn.weatherapi.com/weather/64x64/day/176.png', 'code': 1063}, 'wind_mph': 3.6, 'wind_kph': 5.8, 'wind_degree': 144, 'wind_dir': 'SE', 'pressure_mb': 1018.0, 'pressure_in': 30.06, 'precip_mm': 0.2, 'precip_in': 0.01, 'humidity': 89, 'cloud': 70, 'feelslike_c': 12.6, 'feelslike_f': 54.7, 'windchill_c': 12.6, 'windchill_f': 54.7, 'heatindex_c': 12.7, 'heatindex_f': 54.9, 'dewpoint_c': 11.0, 'dewpoint_f': 51.8, 'will_it_rain': 1, 'chance_of_rain': 84, 'will_it_snow': 0, 'chance_of_snow': 0, 'vis_km': 9.0, 'vis_miles': 5.0, 'gust_mph': 4.0, 'gust_kph': 6.5, 'uv': 3.0}, {'time_epoch': 1687370400, 'time': '2023-06-21 13:00', 'temp_c': 13.2, 'temp_f': 55.8, 'is_day': 1, 'condition': {'text': 'Patchy light rain', 'icon': '//cdn.weatherapi.com/weather/64x64/day/293.png', 'code': 1180}, 'wind_mph': 3.1, 'wind_kph': 5.0, 'wind_degree': 146, 'wind_dir': 'SSE', 'pressure_mb': 1017.0, 'pressure_in': 30.04, 'precip_mm': 0.9, 'precip_in': 0.04, 'humidity': 89, 'cloud': 70, 'feelslike_c': 13.4, 'feelslike_f': 56.1, 'windchill_c': 13.4, 'windchill_f': 56.1, 'heatindex_c': 13.2, 'heatindex_f': 55.8, 'dewpoint_c': 11.4, 'dewpoint_f': 52.5, 'will_it_rain': 1, 'chance_of_rain': 83, 'will_it_snow': 0, 'chance_of_snow': 0, 'vis_km': 9.0, 'vis_miles': 5.0, 'gust_mph': 3.6, 'gust_kph': 5.8, 'uv': 3.0}, {'time_epoch': 1687374000, 'time': '2023-06-21 14:00', 'temp_c': 15.0, 'temp_f': 59.0, 'is_day': 1, 'condition': {'text': 'Light rain shower', 'icon': '//cdn.weatherapi.com/weather/64x64/day/353.png', 'code': 1240}, 'wind_mph': 3.1, 'wind_kph': 5.0, 'wind_degree': 130, 'wind_dir': 'SE', 'pressure_mb': 1015.0, 'pressure_in': 29.98, 'precip_mm': 0.2, 'precip_in': 0.01, 'humidity': 80, 'cloud': 56, 'feelslike_c': 15.4, 'feelslike_f': 59.7, 'windchill_c': 15.4, 'windchill_f': 59.7, 'heatindex_c': 15.0, 'heatindex_f': 59.0, 'dewpoint_c': 11.5, 'dewpoint_f': 52.7, 'will_it_rain': 1, 'chance_of_rain': 81, 'will_it_snow': 0, 'chance_of_snow': 0, 'vis_km': 10.0, 'vis_miles': 6.0, 'gust_mph': 3.6, 'gust_kph': 5.8, 'uv': 4.0}, {'time_epoch': 1687377600, 'time': '2023-06-21 15:00', 'temp_c': 17.0, 'temp_f': 62.6, 'is_day': 1, 'condition': {'text': 'Patchy rain possible', 'icon': '//cdn.weatherapi.com/weather/64x64/day/176.png', 'code': 1063}, 'wind_mph': 3.1, 'wind_kph': 5.0, 'wind_degree': 122, 'wind_dir': 'ESE', 'pressure_mb': 1014.0, 'pressure_in': 29.93, 'precip_mm': 0.2, 'precip_in': 0.01, 'humidity': 72, 'cloud': 80, 'feelslike_c': 17.0, 'feelslike_f': 62.6, 'windchill_c': 17.0, 'windchill_f': 62.6, 'heatindex_c': 17.0, 'heatindex_f': 62.6, 'dewpoint_c': 11.9, 'dewpoint_f': 53.4, 'will_it_rain': 0, 'chance_of_rain': 63, 'will_it_snow': 0, 'chance_of_snow': 0, 'vis_km': 9.0, 'vis_miles': 5.0, 'gust_mph': 3.8, 'gust_kph': 6.1, 'uv': 4.0}, {'time_epoch': 1687381200, 'time': '2023-06-21 16:00', 'temp_c': 17.2, 'temp_f': 63.0, 'is_day': 1, 'condition': {'text': 'Patchy rain possible', 'icon': '//cdn.weatherapi.com/weather/64x64/day/176.png', 'code': 1063}, 'wind_mph': 2.9, 'wind_kph': 4.7, 'wind_degree': 120, 'wind_dir': 'ESE', 'pressure_mb': 1014.0, 'pressure_in': 29.93, 'precip_mm': 0.5, 'precip_in': 0.02, 'humidity': 72, 'cloud': 70, 'feelslike_c': 17.2, 'feelslike_f': 63.0, 'windchill_c': 17.2, 'windchill_f': 63.0, 'heatindex_c': 17.2, 'heatindex_f': 63.0, 'dewpoint_c': 12.1, 'dewpoint_f': 53.8, 'will_it_rain': 1, 'chance_of_rain': 75, 'will_it_snow': 0, 'chance_of_snow': 0, 'vis_km': 9.0, 'vis_miles': 5.0, 'gust_mph': 3.6, 'gust_kph': 5.8, 'uv': 4.0}, {'time_epoch': 1687384800, 'time': '2023-06-21 17:00', 'temp_c': 16.6, 'temp_f': 61.9, 'is_day': 1, 'condition': {'text': 'Patchy rain possible', 'icon': '//cdn.weatherapi.com/weather/64x64/day/176.png', 'code': 1063}, 'wind_mph': 3.1, 'wind_kph': 5.0, 'wind_degree': 123, 'wind_dir': 'ESE', 'pressure_mb': 1014.0, 'pressure_in': 29.94, 'precip_mm': 0.1, 'precip_in': 0.0, 'humidity': 78, 'cloud': 79, 'feelslike_c': 16.6, 'feelslike_f': 61.9, 'windchill_c': 16.6, 'windchill_f': 61.9, 'heatindex_c': 16.6, 'heatindex_f': 61.9, 'dewpoint_c': 12.7, 'dewpoint_f': 54.9, 'will_it_rain': 0, 'chance_of_rain': 70, 'will_it_snow': 0, 'chance_of_snow': 0, 'vis_km': 10.0, 'vis_miles': 6.0, 'gust_mph': 3.8, 'gust_kph': 6.1, 'uv': 4.0}, {'time_epoch': 1687388400, 'time': '2023-06-21 18:00', 'temp_c': 13.5, 'temp_f': 56.3, 'is_day': 1, 'condition': {'text': 'Patchy rain possible', 'icon': '//cdn.weatherapi.com/weather/64x64/day/176.png', 'code': 1063}, 'wind_mph': 2.9, 'wind_kph': 4.7, 'wind_degree': 124, 'wind_dir': 'SE', 'pressure_mb': 1015.0, 'pressure_in': 29.98, 'precip_mm': 0.1, 'precip_in': 0.0, 'humidity': 90, 'cloud': 84, 'feelslike_c': 13.8, 'feelslike_f': 56.8, 'windchill_c': 13.8, 'windchill_f': 56.8, 'heatindex_c': 13.5, 'heatindex_f': 56.3, 'dewpoint_c': 11.9, 'dewpoint_f': 53.4, 'will_it_rain': 0, 'chance_of_rain': 66, 'will_it_snow': 0, 'chance_of_snow': 0, 'vis_km': 10.0, 'vis_miles': 6.0, 'gust_mph': 4.0, 'gust_kph': 6.5, 'uv': 3.0}, {'time_epoch': 1687392000, 'time': '2023-06-21 19:00', 'temp_c': 11.9, 'temp_f': 53.4, 'is_day': 0, 'condition': {'text': 'Patchy rain possible', 'icon': '//cdn.weatherapi.com/weather/64x64/night/176.png', 'code': 1063}, 'wind_mph': 3.8, 'wind_kph': 6.1, 'wind_degree': 120, 'wind_dir': 'ESE', 'pressure_mb': 1017.0, 'pressure_in': 30.02, 'precip_mm': 0.5, 'precip_in': 0.02, 'humidity': 92, 'cloud': 75, 'feelslike_c': 11.6, 'feelslike_f': 52.9, 'windchill_c': 11.6, 'windchill_f': 52.9, 'heatindex_c': 11.9, 'heatindex_f': 53.4, 'dewpoint_c': 10.6, 'dewpoint_f': 51.1, 'will_it_rain': 0, 'chance_of_rain': 68, 'will_it_snow': 0, 'chance_of_snow': 0, 'vis_km': 9.0, 'vis_miles': 5.0, 'gust_mph': 6.3, 'gust_kph': 10.1, 'uv': 1.0}, {'time_epoch': 1687395600, 'time': '2023-06-21 20:00', 'temp_c': 10.1, 'temp_f': 50.2, 'is_day': 0, 'condition': {'text': 'Partly cloudy', 'icon': '//cdn.weatherapi.com/weather/64x64/night/116.png', 'code': 1003}, 'wind_mph': 3.8, 'wind_kph': 6.1, 'wind_degree': 112, 'wind_dir': 'ESE', 'pressure_mb': 1018.0, 'pressure_in': 30.07, 'precip_mm': 0.0, 'precip_in': 0.0, 'humidity': 92, 'cloud': 35, 'feelslike_c': 9.6, 'feelslike_f': 49.3, 'windchill_c': 9.6, 'windchill_f': 49.3, 'heatindex_c': 10.1, 'heatindex_f': 50.2, 'dewpoint_c': 8.9, 'dewpoint_f': 48.0, 'will_it_rain': 0, 'chance_of_rain': 0, 'will_it_snow': 0, 'chance_of_snow': 0, 'vis_km': 10.0, 'vis_miles': 6.0, 'gust_mph': 7.6, 'gust_kph': 12.2, 'uv': 1.0}, {'time_epoch': 1687399200, 'time': '2023-06-21 21:00', 'temp_c': 9.5, 'temp_f': 49.1, 'is_day': 0, 'condition': {'text': 'Partly cloudy', 'icon': '//cdn.weatherapi.com/weather/64x64/night/116.png', 'code': 1003}, 'wind_mph': 4.0, 'wind_kph': 6.5, 'wind_degree': 113, 'wind_dir': 'ESE', 'pressure_mb': 1019.0, 'pressure_in': 30.09, 'precip_mm': 0.0, 'precip_in': 0.0, 'humidity': 93, 'cloud': 36, 'feelslike_c': 8.8, 'feelslike_f': 47.8, 'windchill_c': 8.8, 'windchill_f': 47.8, 'heatindex_c': 9.5, 'heatindex_f': 49.1, 'dewpoint_c': 8.4, 'dewpoint_f': 47.1, 'will_it_rain': 0, 'chance_of_rain': 0, 'will_it_snow': 0, 'chance_of_snow': 0, 'vis_km': 10.0, 'vis_miles': 6.0, 'gust_mph': 8.3, 'gust_kph': 13.3, 'uv': 1.0}, {'time_epoch': 1687402800, 'time': '2023-06-21 22:00', 'temp_c': 9.5, 'temp_f': 49.1, 'is_day': 0, 'condition': {'text': 'Partly cloudy', 'icon': '//cdn.weatherapi.com/weather/64x64/night/116.png', 'code': 1003}, 'wind_mph': 4.0, 'wind_kph': 6.5, 'wind_degree': 113, 'wind_dir': 'ESE', 'pressure_mb': 1020.0, 'pressure_in': 30.11, 'precip_mm': 0.0, 'precip_in': 0.0, 'humidity': 92, 'cloud': 33, 'feelslike_c': 8.8, 'feelslike_f': 47.8, 'windchill_c': 8.8, 'windchill_f': 47.8, 'heatindex_c': 9.5, 'heatindex_f': 49.1, 'dewpoint_c': 8.3, 'dewpoint_f': 46.9, 'will_it_rain': 0, 'chance_of_rain': 0, 'will_it_snow': 0, 'chance_of_snow': 0, 'vis_km': 10.0, 'vis_miles': 6.0, 'gust_mph': 7.8, 'gust_kph': 12.6, 'uv': 1.0}, {'time_epoch': 1687406400, 'time': '2023-06-21 23:00', 'temp_c': 9.3, 'temp_f': 48.7, 'is_day': 0, 'condition': {'text': 'Partly cloudy', 'icon': '//cdn.weatherapi.com/weather/64x64/night/116.png', 'code': 1003}, 'wind_mph': 3.8, 'wind_kph': 6.1, 'wind_degree': 113, 'wind_dir': 'ESE', 'pressure_mb': 1020.0, 'pressure_in': 30.12, 'precip_mm': 0.0, 'precip_in': 0.0, 'humidity': 92, 'cloud': 32, 'feelslike_c': 8.6, 'feelslike_f': 47.5, 'windchill_c': 8.6, 'windchill_f': 47.5, 'heatindex_c': 9.3, 'heatindex_f': 48.7, 'dewpoint_c': 8.0, 'dewpoint_f': 46.4, 'will_it_rain': 0, 'chance_of_rain': 0, 'will_it_snow': 0, 'chance_of_snow': 0, 'vis_km': 10.0, 'vis_miles': 6.0, 'gust_mph': 7.4, 'gust_kph': 11.9, 'uv': 1.0}]}]}}\n"
     ]
    }
   ],
   "source": [
    "response = requests.get(url_clima).json()\n",
    "print(response)"
   ]
  },
  {
   "cell_type": "code",
   "execution_count": 25,
   "metadata": {},
   "outputs": [
    {
     "data": {
      "text/plain": [
       "dict_keys(['location', 'current', 'forecast'])"
      ]
     },
     "execution_count": 25,
     "metadata": {},
     "output_type": "execute_result"
    }
   ],
   "source": [
    "response.keys()"
   ]
  },
  {
   "cell_type": "code",
   "execution_count": 26,
   "metadata": {},
   "outputs": [
    {
     "data": {
      "text/plain": [
       "dict_keys(['date', 'date_epoch', 'day', 'astro', 'hour'])"
      ]
     },
     "execution_count": 26,
     "metadata": {},
     "output_type": "execute_result"
    }
   ],
   "source": [
    "# información que se tiene de forcastday\n",
    "response['forecast']['forecastday'][0].keys()"
   ]
  },
  {
   "cell_type": "code",
   "execution_count": 27,
   "metadata": {},
   "outputs": [
    {
     "data": {
      "text/plain": [
       "24"
      ]
     },
     "execution_count": 27,
     "metadata": {},
     "output_type": "execute_result"
    }
   ],
   "source": [
    "\n",
    "len(response['forecast']['forecastday'][0]['hour'])"
   ]
  },
  {
   "cell_type": "code",
   "execution_count": 28,
   "metadata": {},
   "outputs": [
    {
     "data": {
      "text/plain": [
       "{'time_epoch': 1687327200,\n",
       " 'time': '2023-06-21 01:00',\n",
       " 'temp_c': 8.8,\n",
       " 'temp_f': 47.8,\n",
       " 'is_day': 0,\n",
       " 'condition': {'text': 'Partly cloudy',\n",
       "  'icon': '//cdn.weatherapi.com/weather/64x64/night/116.png',\n",
       "  'code': 1003},\n",
       " 'wind_mph': 3.8,\n",
       " 'wind_kph': 6.1,\n",
       " 'wind_degree': 112,\n",
       " 'wind_dir': 'ESE',\n",
       " 'pressure_mb': 1020.0,\n",
       " 'pressure_in': 30.11,\n",
       " 'precip_mm': 0.0,\n",
       " 'precip_in': 0.0,\n",
       " 'humidity': 92,\n",
       " 'cloud': 36,\n",
       " 'feelslike_c': 8.1,\n",
       " 'feelslike_f': 46.6,\n",
       " 'windchill_c': 8.1,\n",
       " 'windchill_f': 46.6,\n",
       " 'heatindex_c': 8.8,\n",
       " 'heatindex_f': 47.8,\n",
       " 'dewpoint_c': 7.6,\n",
       " 'dewpoint_f': 45.7,\n",
       " 'will_it_rain': 0,\n",
       " 'chance_of_rain': 0,\n",
       " 'will_it_snow': 0,\n",
       " 'chance_of_snow': 0,\n",
       " 'vis_km': 10.0,\n",
       " 'vis_miles': 6.0,\n",
       " 'gust_mph': 7.2,\n",
       " 'gust_kph': 11.5,\n",
       " 'uv': 1.0}"
      ]
     },
     "execution_count": 28,
     "metadata": {},
     "output_type": "execute_result"
    }
   ],
   "source": [
    "# pronostico de la 1:00 AM\n",
    "response['forecast']['forecastday'][0]['hour'][1]"
   ]
  },
  {
   "cell_type": "code",
   "execution_count": 29,
   "metadata": {},
   "outputs": [
    {
     "data": {
      "text/plain": [
       "'2023-06-21'"
      ]
     },
     "execution_count": 29,
     "metadata": {},
     "output_type": "execute_result"
    }
   ],
   "source": [
    "# Obtener unicamente la fecha del dato anterior\n",
    "response['forecast']['forecastday'][0]['hour'][1]['time'].split()[0]"
   ]
  },
  {
   "cell_type": "code",
   "execution_count": 30,
   "metadata": {},
   "outputs": [
    {
     "data": {
      "text/plain": [
       "1"
      ]
     },
     "execution_count": 30,
     "metadata": {},
     "output_type": "execute_result"
    }
   ],
   "source": [
    "# Obtener unicamente la hora del dato anterior\n",
    "int(response['forecast']['forecastday'][0]['hour'][1]['time'].split()[1].split(':')[0])"
   ]
  },
  {
   "cell_type": "code",
   "execution_count": 31,
   "metadata": {},
   "outputs": [
    {
     "data": {
      "text/plain": [
       "'Partly cloudy'"
      ]
     },
     "execution_count": 31,
     "metadata": {},
     "output_type": "execute_result"
    }
   ],
   "source": [
    "# Obtener la condición del dato anterior\n",
    "response['forecast']['forecastday'][0]['hour'][1]['condition']['text']"
   ]
  },
  {
   "cell_type": "code",
   "execution_count": 32,
   "metadata": {},
   "outputs": [
    {
     "data": {
      "text/plain": [
       "8.8"
      ]
     },
     "execution_count": 32,
     "metadata": {},
     "output_type": "execute_result"
    }
   ],
   "source": [
    "# Obtener la temperatura del dato anterior\n",
    "response['forecast']['forecastday'][0]['hour'][1]['temp_c']"
   ]
  },
  {
   "cell_type": "code",
   "execution_count": 33,
   "metadata": {},
   "outputs": [
    {
     "data": {
      "text/plain": [
       "0"
      ]
     },
     "execution_count": 33,
     "metadata": {},
     "output_type": "execute_result"
    }
   ],
   "source": [
    "# Obtener si va llover o no (0 o 1) del dato anterior\n",
    "response['forecast']['forecastday'][0]['hour'][1]['will_it_rain']"
   ]
  },
  {
   "cell_type": "code",
   "execution_count": 34,
   "metadata": {},
   "outputs": [
    {
     "data": {
      "text/plain": [
       "0"
      ]
     },
     "execution_count": 34,
     "metadata": {},
     "output_type": "execute_result"
    }
   ],
   "source": [
    "# Obtener probabilidad de lluvia del dato anterior\n",
    "response['forecast']['forecastday'][0]['hour'][1]['chance_of_rain']"
   ]
  },
  {
   "attachments": {},
   "cell_type": "markdown",
   "metadata": {},
   "source": [
    "# DataFrames"
   ]
  },
  {
   "cell_type": "code",
   "execution_count": 35,
   "metadata": {},
   "outputs": [],
   "source": [
    "def get_forecast(response, i):\n",
    "    date = response['forecast']['forecastday'][0]['hour'][i]['time'].split()[0]\n",
    "    hour = int(response['forecast']['forecastday'][0]['hour'][i]['time'].split()[1].split(':')[0])\n",
    "    condition = response['forecast']['forecastday'][0]['hour'][i]['condition']['text']\n",
    "    temperature = response['forecast']['forecastday'][0]['hour'][i]['temp_c']\n",
    "    rain = response['forecast']['forecastday'][0]['hour'][i]['will_it_rain']\n",
    "    prob_rain = response['forecast']['forecastday'][0]['hour'][i]['chance_of_rain']\n",
    "\n",
    "    return date, hour, condition, temperature, rain, prob_rain\n"
   ]
  },
  {
   "cell_type": "code",
   "execution_count": 36,
   "metadata": {},
   "outputs": [
    {
     "name": "stderr",
     "output_type": "stream",
     "text": [
      "100%|\u001b[34m██████████\u001b[0m| 24/24 [00:00<00:00, 9925.39it/s]\n"
     ]
    }
   ],
   "source": [
    "data = []\n",
    "\n",
    "for i in tqdm(range(len(response['forecast']['forecastday'][0]['hour'])), colour='blue'):\n",
    "    data.append(get_forecast(response,i))"
   ]
  },
  {
   "cell_type": "code",
   "execution_count": 37,
   "metadata": {},
   "outputs": [
    {
     "data": {
      "text/plain": [
       "('2023-06-21', 0, 'Partly cloudy', 8.9, 0, 0)"
      ]
     },
     "execution_count": 37,
     "metadata": {},
     "output_type": "execute_result"
    }
   ],
   "source": [
    "data[0]"
   ]
  },
  {
   "cell_type": "code",
   "execution_count": 38,
   "metadata": {},
   "outputs": [
    {
     "data": {
      "text/html": [
       "<div>\n",
       "<style scoped>\n",
       "    .dataframe tbody tr th:only-of-type {\n",
       "        vertical-align: middle;\n",
       "    }\n",
       "\n",
       "    .dataframe tbody tr th {\n",
       "        vertical-align: top;\n",
       "    }\n",
       "\n",
       "    .dataframe thead th {\n",
       "        text-align: right;\n",
       "    }\n",
       "</style>\n",
       "<table border=\"1\" class=\"dataframe\">\n",
       "  <thead>\n",
       "    <tr style=\"text-align: right;\">\n",
       "      <th></th>\n",
       "      <th>date</th>\n",
       "      <th>hour</th>\n",
       "      <th>condition</th>\n",
       "      <th>temperature</th>\n",
       "      <th>rain</th>\n",
       "      <th>prob_rain</th>\n",
       "    </tr>\n",
       "  </thead>\n",
       "  <tbody>\n",
       "    <tr>\n",
       "      <th>0</th>\n",
       "      <td>2023-06-21</td>\n",
       "      <td>0</td>\n",
       "      <td>Partly cloudy</td>\n",
       "      <td>8.9</td>\n",
       "      <td>0</td>\n",
       "      <td>0</td>\n",
       "    </tr>\n",
       "    <tr>\n",
       "      <th>1</th>\n",
       "      <td>2023-06-21</td>\n",
       "      <td>1</td>\n",
       "      <td>Partly cloudy</td>\n",
       "      <td>8.8</td>\n",
       "      <td>0</td>\n",
       "      <td>0</td>\n",
       "    </tr>\n",
       "    <tr>\n",
       "      <th>2</th>\n",
       "      <td>2023-06-21</td>\n",
       "      <td>2</td>\n",
       "      <td>Partly cloudy</td>\n",
       "      <td>8.7</td>\n",
       "      <td>0</td>\n",
       "      <td>0</td>\n",
       "    </tr>\n",
       "    <tr>\n",
       "      <th>3</th>\n",
       "      <td>2023-06-21</td>\n",
       "      <td>3</td>\n",
       "      <td>Partly cloudy</td>\n",
       "      <td>8.7</td>\n",
       "      <td>0</td>\n",
       "      <td>0</td>\n",
       "    </tr>\n",
       "    <tr>\n",
       "      <th>4</th>\n",
       "      <td>2023-06-21</td>\n",
       "      <td>4</td>\n",
       "      <td>Partly cloudy</td>\n",
       "      <td>8.7</td>\n",
       "      <td>0</td>\n",
       "      <td>0</td>\n",
       "    </tr>\n",
       "  </tbody>\n",
       "</table>\n",
       "</div>"
      ],
      "text/plain": [
       "         date  hour      condition  temperature  rain  prob_rain\n",
       "0  2023-06-21     0  Partly cloudy          8.9     0          0\n",
       "1  2023-06-21     1  Partly cloudy          8.8     0          0\n",
       "2  2023-06-21     2  Partly cloudy          8.7     0          0\n",
       "3  2023-06-21     3  Partly cloudy          8.7     0          0\n",
       "4  2023-06-21     4  Partly cloudy          8.7     0          0"
      ]
     },
     "execution_count": 38,
     "metadata": {},
     "output_type": "execute_result"
    }
   ],
   "source": [
    "columns = ['date', 'hour', 'condition', 'temperature', 'rain', 'prob_rain']\n",
    "df_forecast = pd.DataFrame(data=data, columns=columns)\n",
    "df_forecast.head()\n"
   ]
  },
  {
   "cell_type": "code",
   "execution_count": 39,
   "metadata": {},
   "outputs": [
    {
     "data": {
      "text/html": [
       "<div>\n",
       "<style scoped>\n",
       "    .dataframe tbody tr th:only-of-type {\n",
       "        vertical-align: middle;\n",
       "    }\n",
       "\n",
       "    .dataframe tbody tr th {\n",
       "        vertical-align: top;\n",
       "    }\n",
       "\n",
       "    .dataframe thead th {\n",
       "        text-align: right;\n",
       "    }\n",
       "</style>\n",
       "<table border=\"1\" class=\"dataframe\">\n",
       "  <thead>\n",
       "    <tr style=\"text-align: right;\">\n",
       "      <th></th>\n",
       "      <th>condition</th>\n",
       "    </tr>\n",
       "    <tr>\n",
       "      <th>hour</th>\n",
       "      <th></th>\n",
       "    </tr>\n",
       "  </thead>\n",
       "  <tbody>\n",
       "    <tr>\n",
       "      <th>10</th>\n",
       "      <td>Patchy light drizzle</td>\n",
       "    </tr>\n",
       "    <tr>\n",
       "      <th>12</th>\n",
       "      <td>Patchy rain possible</td>\n",
       "    </tr>\n",
       "    <tr>\n",
       "      <th>13</th>\n",
       "      <td>Patchy light rain</td>\n",
       "    </tr>\n",
       "    <tr>\n",
       "      <th>14</th>\n",
       "      <td>Light rain shower</td>\n",
       "    </tr>\n",
       "    <tr>\n",
       "      <th>16</th>\n",
       "      <td>Patchy rain possible</td>\n",
       "    </tr>\n",
       "  </tbody>\n",
       "</table>\n",
       "</div>"
      ],
      "text/plain": [
       "                 condition\n",
       "hour                      \n",
       "10    Patchy light drizzle\n",
       "12    Patchy rain possible\n",
       "13       Patchy light rain\n",
       "14       Light rain shower\n",
       "16    Patchy rain possible"
      ]
     },
     "execution_count": 39,
     "metadata": {},
     "output_type": "execute_result"
    }
   ],
   "source": [
    "# filtrar los horarios de lluvia entre las 6am a 10pm\n",
    "df_rain = df_forecast[(df_forecast['rain'] == 1) & (df_forecast['hour']>6) & (df_forecast['hour']< 22)] \n",
    "df_rain = df_rain[['hour', 'condition']]\n",
    "df_rain.set_index('hour', inplace=True)\n",
    "df_rain"
   ]
  },
  {
   "attachments": {},
   "cell_type": "markdown",
   "metadata": {},
   "source": [
    "# Mensaje - Template"
   ]
  },
  {
   "cell_type": "code",
   "execution_count": 40,
   "metadata": {},
   "outputs": [],
   "source": [
    "msj = \"\\nHi! \\n\\n\\n Today's forecast is: \"+ df_forecast['date'][0] +' in ' + query +' is : \\n\\n\\n ' + str(df_rain)"
   ]
  },
  {
   "cell_type": "code",
   "execution_count": 41,
   "metadata": {},
   "outputs": [
    {
     "data": {
      "text/plain": [
       "'+57 317 640 8266'"
      ]
     },
     "execution_count": 41,
     "metadata": {},
     "output_type": "execute_result"
    }
   ],
   "source": [
    "MY_PHONE_NUMBER"
   ]
  },
  {
   "cell_type": "code",
   "execution_count": 42,
   "metadata": {},
   "outputs": [
    {
     "name": "stdout",
     "output_type": "stream",
     "text": [
      "Mensaje Enviado SM601c169c0e6cf48c9a218fddbe4fb768\n"
     ]
    }
   ],
   "source": [
    "time.sleep(2)\n",
    "account_sid = TWILIO_ACCOUNT_SID \n",
    "auth_token = TWILIO_AUTH_TOKEN\n",
    "\n",
    "client = Client(account_sid, auth_token)\n",
    "\n",
    "message = client.messages \\\n",
    "                .create(\n",
    "                     body=msj,\n",
    "                     from_=PHONE_NUMBER,\n",
    "                     to=MY_PHONE_NUMBER\n",
    "                 )\n",
    "\n",
    "print('Mensaje Enviado ' + message.sid)"
   ]
  }
 ],
 "metadata": {
  "kernelspec": {
   "display_name": ".venv",
   "language": "python",
   "name": "python3"
  },
  "language_info": {
   "codemirror_mode": {
    "name": "ipython",
    "version": 3
   },
   "file_extension": ".py",
   "mimetype": "text/x-python",
   "name": "python",
   "nbconvert_exporter": "python",
   "pygments_lexer": "ipython3",
   "version": "3.10.6"
  },
  "orig_nbformat": 4
 },
 "nbformat": 4,
 "nbformat_minor": 2
}
